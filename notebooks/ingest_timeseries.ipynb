{
    "cells": [
        {
            "cell_type": "code",
            "execution_count": 131,
            "metadata": {},
            "outputs": [
                {
                    "name": "stdout",
                    "output_type": "stream",
                    "text": [
                        "The autoreload extension is already loaded. To reload it, use:\n",
                        "  %reload_ext autoreload\n"
                    ]
                }
            ],
            "source": [
                "%load_ext autoreload\n",
                "%autoreload 2\n",
                "\n",
                "import os\n",
                "import pandas as pd\n",
                "from cloudsdp.api.bigquery import BigQuery, WriteDisposition\n",
                "\n",
                "os.environ[\"GOOGLE_APPLICATION_CREDENTIALS\"] = \"../\" + os.environ[\"GOOGLE_APPLICATION_CREDENTIALS\"] if not os.environ[\"GOOGLE_APPLICATION_CREDENTIALS\"].startswith(\"..\") else os.environ[\"GOOGLE_APPLICATION_CREDENTIALS\"]\n",
                "PROJECT_NAME = \"cloudsdp\"\n",
                "\n",
                "bq = BigQuery(PROJECT_NAME)"
            ]
        },
        {
            "cell_type": "code",
            "execution_count": 138,
            "metadata": {},
            "outputs": [],
            "source": [
                "table_name = \"table_check\"\n",
                "dataset_name = \"dataset\"\n",
                "\n",
                "table_schema = [\n",
                "    {\"name\": \"name\", \"field_type\": \"STRING\", \"mode\": \"REQUIRED\"},\n",
                "    {\"name\": \"score\", \"field_type\": \"FLOAT64\", \"mode\": \"REQUIRED\"},\n",
                "]\n",
                "data = [{ \"name\": \"One\" }, { \"name\": \"Two\" }]"
            ]
        },
        {
            "cell_type": "code",
            "execution_count": 139,
            "metadata": {},
            "outputs": [],
            "source": [
                "table = bq.create_table(table_name, table_schema, dataset_name, recreate=True)"
            ]
        },
        {
            "cell_type": "code",
            "execution_count": 140,
            "metadata": {},
            "outputs": [],
            "source": [
                "df = pd.DataFrame({\"name\": [ \"even\" if el % 2 == 0 else \"odd\" for el in range(0, 10000)], \"score\": [ el for el in range(0, 10000)]})"
            ]
        },
        {
            "cell_type": "code",
            "execution_count": 141,
            "metadata": {},
            "outputs": [],
            "source": [
                "bq.ingest_from_dataframe(df, dataset_name, table_name, write_disposition=WriteDisposition.WRITE_APPEND)"
            ]
        },
        {
            "cell_type": "code",
            "execution_count": null,
            "metadata": {},
            "outputs": [],
            "source": []
        },
        {
            "cell_type": "code",
            "execution_count": null,
            "metadata": {},
            "outputs": [],
            "source": []
        },
        {
            "cell_type": "code",
            "execution_count": null,
            "metadata": {},
            "outputs": [],
            "source": []
        },
        {
            "cell_type": "code",
            "execution_count": null,
            "metadata": {},
            "outputs": [],
            "source": []
        }
    ],
    "metadata": {
        "kernelspec": {
            "display_name": "cloudsdp-MF5zVfiM-py3.9",
            "language": "python",
            "name": "python3"
        },
        "language_info": {
            "codemirror_mode": {
                "name": "ipython",
                "version": 3
            },
            "file_extension": ".py",
            "mimetype": "text/x-python",
            "name": "python",
            "nbconvert_exporter": "python",
            "pygments_lexer": "ipython3",
            "version": "3.9.4"
        },
        "orig_nbformat": 4
    },
    "nbformat": 4,
    "nbformat_minor": 2
}
